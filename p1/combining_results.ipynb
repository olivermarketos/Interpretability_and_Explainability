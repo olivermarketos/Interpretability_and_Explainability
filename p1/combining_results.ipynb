{
 "cells": [
  {
   "cell_type": "code",
   "execution_count": 1,
   "id": "354ded5c",
   "metadata": {},
   "outputs": [],
   "source": [
    "import pandas as pd"
   ]
  },
  {
   "cell_type": "code",
   "execution_count": null,
   "id": "43ed3184",
   "metadata": {},
   "outputs": [],
   "source": [
    "# Loading the results\n",
    "lasso = pd.read_parquet(\"./results/lasso_regression\")\n",
    "mlp = pd.read_parquet(\"./results/MLP\")\n",
    "nam = pd.read_parquet(\"./results/NAM\")"
   ]
  },
  {
   "cell_type": "code",
   "execution_count": 18,
   "id": "765a1dcd",
   "metadata": {},
   "outputs": [
    {
     "data": {
      "text/html": [
       "<div>\n",
       "<style scoped>\n",
       "    .dataframe tbody tr th:only-of-type {\n",
       "        vertical-align: middle;\n",
       "    }\n",
       "\n",
       "    .dataframe tbody tr th {\n",
       "        vertical-align: top;\n",
       "    }\n",
       "\n",
       "    .dataframe thead th {\n",
       "        text-align: right;\n",
       "    }\n",
       "</style>\n",
       "<table border=\"1\" class=\"dataframe\">\n",
       "  <thead>\n",
       "    <tr style=\"text-align: right;\">\n",
       "      <th></th>\n",
       "      <th>Model</th>\n",
       "      <th>Test f1-score</th>\n",
       "      <th>Test balanced accuracy</th>\n",
       "    </tr>\n",
       "  </thead>\n",
       "  <tbody>\n",
       "    <tr>\n",
       "      <th>0</th>\n",
       "      <td>Lasso regression</td>\n",
       "      <td>0.862222</td>\n",
       "      <td>0.819287</td>\n",
       "    </tr>\n",
       "    <tr>\n",
       "      <th>1</th>\n",
       "      <td>MLP</td>\n",
       "      <td>0.866071</td>\n",
       "      <td>0.826044</td>\n",
       "    </tr>\n",
       "    <tr>\n",
       "      <th>2</th>\n",
       "      <td>NAM</td>\n",
       "      <td>0.871111</td>\n",
       "      <td>0.830590</td>\n",
       "    </tr>\n",
       "  </tbody>\n",
       "</table>\n",
       "</div>"
      ],
      "text/plain": [
       "              Model  Test f1-score  Test balanced accuracy\n",
       "0  Lasso regression       0.862222                0.819287\n",
       "1               MLP       0.866071                0.826044\n",
       "2               NAM       0.871111                0.830590"
      ]
     },
     "execution_count": 18,
     "metadata": {},
     "output_type": "execute_result"
    }
   ],
   "source": [
    "# Concatenating the results into a single data frame\n",
    "combined = pd.concat([lasso, mlp, nam], ignore_index=True)\n",
    "combined"
   ]
  },
  {
   "cell_type": "code",
   "execution_count": null,
   "id": "4e8b04e2",
   "metadata": {},
   "outputs": [],
   "source": [
    "# Saving the combined results to the combined_results.csv file\n",
    "combined.to_csv(\"./results/combined_results.csv\", index=False)"
   ]
  },
  {
   "cell_type": "code",
   "execution_count": null,
   "id": "c7499d2e",
   "metadata": {},
   "outputs": [],
   "source": []
  }
 ],
 "metadata": {
  "kernelspec": {
   "display_name": ".venv",
   "language": "python",
   "name": "python3"
  },
  "language_info": {
   "codemirror_mode": {
    "name": "ipython",
    "version": 3
   },
   "file_extension": ".py",
   "mimetype": "text/x-python",
   "name": "python",
   "nbconvert_exporter": "python",
   "pygments_lexer": "ipython3",
   "version": "3.11.12"
  }
 },
 "nbformat": 4,
 "nbformat_minor": 5
}
